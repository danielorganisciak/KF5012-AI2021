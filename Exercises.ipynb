{
 "cells": [
  {
   "cell_type": "markdown",
   "metadata": {},
   "source": [
    "### Overview\n",
    "The goal of these exercises is to challenge you a little bit and make you think. The questions are designed to allow you to have a play around and try a few things before getting to the answer. The solutions are obtainable by writing very similar to code to what has been explored in these notebooks, but may require an extra step of logic. \n",
    "\n",
    "The solutions will be released after the lecture on Thursday.\n",
    "\n",
    "Let's start with importing libraries and the lists and arrays that you will be working on throughout this notebook."
   ]
  },
  {
   "cell_type": "code",
   "execution_count": null,
   "metadata": {},
   "outputs": [],
   "source": [
    "import numpy as np\n",
    "\n",
    "list1 = [-10, -5, -2, 0, 2, 5, 10]\n",
    "mat = np.array([[0, 1, 2], [3, 4, 5], [6, 7, 8]])"
   ]
  },
  {
   "cell_type": "markdown",
   "metadata": {},
   "source": [
    "## Exercise 1\n",
    "\n",
    "The Rectified Linear Unit function $\\operatorname{ReLU}(x) = \\max\\{0,x\\}$ is a non-linearity which is essential to most neural networks.\n",
    "\n",
    "**1. a)** Write a function that will take a floating point number $x$ and return $\\operatorname{ReLU}(x)$. Test your function on the `list1`. \n",
    "\n",
    "Hint: \n",
    "The ReLU function can be reformulated as \n",
    "> $\\operatorname{ReLU}(x) =  \\begin{cases}\n",
    "x & \\mathrm{if} \\, x \\geq 0,\\\\ \n",
    "0 & \\mathrm{if} \\, x < 0.\n",
    "\\end{cases}$"
   ]
  },
  {
   "cell_type": "code",
   "execution_count": null,
   "metadata": {
    "scrolled": true
   },
   "outputs": [],
   "source": [
    "# Write your answer here\n",
    "\n",
    "def ReLU(x):"
   ]
  },
  {
   "cell_type": "markdown",
   "metadata": {},
   "source": [
    "**1. b)  [Optional]** An extension of ReLU is the Exponential Linear Unit. \n",
    "\n",
    "> $\\operatorname{ELU}(x) =  \\begin{cases}\n",
    "x &  \\mathrm{if} \\, x \\geq 0,\\\\ \n",
    "\\alpha(\\mathrm{e}^x-1) & \\mathrm{if} \\, x < 0. \\end{cases}$\n",
    "\n",
    "Write a function which will return $\\operatorname{ELU}(x)$ for a given $\\alpha$. Test your function on the `list1`. \n",
    "\n",
    "Hint:\n",
    "You might need `np.exp`."
   ]
  },
  {
   "cell_type": "code",
   "execution_count": null,
   "metadata": {},
   "outputs": [],
   "source": [
    "# Write your answer here\n",
    "\n",
    "alpha = 0.1\n",
    "\n",
    "def ELU(x, alpha):"
   ]
  },
  {
   "cell_type": "markdown",
   "metadata": {},
   "source": [
    "## Exercise 2\n",
    "**2. a)** Take the matrix `mat` that we used in the 'Numpy and Arrays' notebook. Use numpy to switch the second and third rows of the matrix."
   ]
  },
  {
   "cell_type": "code",
   "execution_count": null,
   "metadata": {},
   "outputs": [],
   "source": [
    "# Write your answer here"
   ]
  },
  {
   "cell_type": "markdown",
   "metadata": {},
   "source": [
    "**2. b)** Create a function that can swap any two rows of any given matrix. Include checks that the `idx1` and `idx2` exist for the loaded matrix."
   ]
  },
  {
   "cell_type": "code",
   "execution_count": null,
   "metadata": {},
   "outputs": [],
   "source": [
    "# Write your answer here\n",
    "\n",
    "def swap_rows(matrix, idx1, idx2):\n",
    "    \n",
    "    return M"
   ]
  },
  {
   "cell_type": "markdown",
   "metadata": {},
   "source": [
    "**2. c)** Print the top right 2x2 square of the matrix `mat`."
   ]
  },
  {
   "cell_type": "code",
   "execution_count": null,
   "metadata": {},
   "outputs": [],
   "source": [
    "# Write your answer here"
   ]
  },
  {
   "cell_type": "markdown",
   "metadata": {},
   "source": [
    "## Exercise 3\n",
    "In artificial intelligence, the data sets that you work on will sometimes be missing values. Handling missing values is one of the tasks you will have to handle before you can start to implement your model. Many off-the-shelf methods won't run if missing values exist, or will just delete any row where even one value is missing.\n",
    "\n",
    "This exercise will cover some of the simplest ways to handle this problem."
   ]
  },
  {
   "cell_type": "markdown",
   "metadata": {},
   "source": [
    "**3. a)** Load the data set `missing.csv` and use `np.where` to find where the dataset is missing values"
   ]
  },
  {
   "cell_type": "code",
   "execution_count": null,
   "metadata": {},
   "outputs": [],
   "source": [
    "# Write your answer here"
   ]
  },
  {
   "cell_type": "markdown",
   "metadata": {},
   "source": [
    "**3. b) i)** Replace the missing values with a \"don't care\" value. Usually, this means fill in all missing values with `-1`"
   ]
  },
  {
   "cell_type": "markdown",
   "metadata": {},
   "source": [
    "**3. b) ii)** Replace the missing value with a random value. You should generate the random value using numpy, and generate a new random value for each cell to fill in. The random value should be larger than the smallest value in the column, and smaller than the largest value in the column. \n",
    "\n",
    "Hint: You might need `np.random.randint(low, high)`"
   ]
  },
  {
   "cell_type": "code",
   "execution_count": null,
   "metadata": {},
   "outputs": [],
   "source": [
    "# Write your answers here"
   ]
  },
  {
   "cell_type": "markdown",
   "metadata": {},
   "source": [
    "**3. d)** Write a function which takes a filename as input. The function needs to load the data set from the filename. It should then check for any missing values and replace them with the mean of the column. Test the function with `missing.csv`"
   ]
  },
  {
   "cell_type": "code",
   "execution_count": null,
   "metadata": {},
   "outputs": [],
   "source": [
    "# Write your answer here\n",
    "\n",
    "def impute_values(csv_file):\n",
    "    \n",
    "    return M"
   ]
  }
 ],
 "metadata": {
  "kernelspec": {
   "display_name": "Python 3",
   "language": "python",
   "name": "python3"
  },
  "language_info": {
   "codemirror_mode": {
    "name": "ipython",
    "version": 3
   },
   "file_extension": ".py",
   "mimetype": "text/x-python",
   "name": "python",
   "nbconvert_exporter": "python",
   "pygments_lexer": "ipython3",
   "version": "3.7.4"
  }
 },
 "nbformat": 4,
 "nbformat_minor": 2
}
