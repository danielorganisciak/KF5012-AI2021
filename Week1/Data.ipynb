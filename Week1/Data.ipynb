{
 "cells": [
  {
   "cell_type": "markdown",
   "metadata": {},
   "source": [
    "## Data in Python\n",
    "\n",
    "We will look at more sophisticated ways to import data in future practicals, for now we will stick with numpy arrays."
   ]
  },
  {
   "cell_type": "code",
   "execution_count": null,
   "metadata": {},
   "outputs": [],
   "source": [
    "import numpy as np"
   ]
  },
  {
   "cell_type": "markdown",
   "metadata": {},
   "source": [
    "Lets look at a function to import a csv (comma separated values) file.\n",
    "\n",
    "First lets explain where to fine the data."
   ]
  },
  {
   "cell_type": "code",
   "execution_count": null,
   "metadata": {},
   "outputs": [],
   "source": [
    "csv_file = 'Data/fib.csv'"
   ]
  },
  {
   "cell_type": "markdown",
   "metadata": {},
   "source": [
    "Now we need to convert this csv file into a numpy array"
   ]
  },
  {
   "cell_type": "code",
   "execution_count": null,
   "metadata": {},
   "outputs": [],
   "source": [
    "values = np.genfromtxt(csv_file, delimiter = ',', dtype = '|U')\n",
    "print(values)"
   ]
  },
  {
   "cell_type": "markdown",
   "metadata": {},
   "source": [
    "Let's dissect this in order to understand.\n",
    "\n",
    "The work is done in the `np.genfromtext` function, which taxes a text file and turns it into a numpy ndarray, the same type of object that we have been previously working with.\n",
    "\n",
    "`csv_file` This is the previously defined string that contains the path to your data.\n",
    "\n",
    "`delimiter` This tells the function what is separating values in your file. In our case, we have commas between all of the values that are important. We set `delimiter = ','`.\n",
    "\n",
    "`dtype` The datatype. We won't worry about this just yet."
   ]
  },
  {
   "cell_type": "code",
   "execution_count": null,
   "metadata": {},
   "outputs": [],
   "source": [
    "print(type(values))"
   ]
  },
  {
   "cell_type": "code",
   "execution_count": null,
   "metadata": {
    "scrolled": true
   },
   "outputs": [],
   "source": [
    "print(values.shape)\n",
    "print(values[0])\n",
    "print(values[4])"
   ]
  },
  {
   "cell_type": "markdown",
   "metadata": {},
   "source": [
    "We will be calling this quite often, so lets turn it into a function:"
   ]
  },
  {
   "cell_type": "code",
   "execution_count": null,
   "metadata": {},
   "outputs": [],
   "source": [
    "def load_data(csv_file, datatype = '|U'): #The last variable is in case we want to quickly load data with a different datatype\n",
    "    values = np.genfromtxt(csv_file, delimiter = ',', dtype = datatype) \n",
    "    print(values)\n",
    "    return values"
   ]
  },
  {
   "cell_type": "markdown",
   "metadata": {},
   "source": [
    "### Two dimensional data\n",
    "\n",
    "Now we will look at an example where the data is two dimensional. There are 4 coders, A, B, C and D who have written some code. We will evaluate the number of lines and errors in their code."
   ]
  },
  {
   "cell_type": "code",
   "execution_count": null,
   "metadata": {},
   "outputs": [],
   "source": [
    "csv2 = 'Data/coders.csv'\n",
    "values = load_data(csv2)"
   ]
  },
  {
   "cell_type": "code",
   "execution_count": null,
   "metadata": {},
   "outputs": [],
   "source": [
    "print(type(values))"
   ]
  },
  {
   "cell_type": "markdown",
   "metadata": {},
   "source": [
    "The first row and column are unimportant to use, so lets remove them as we saw in the previous notebook:"
   ]
  },
  {
   "cell_type": "code",
   "execution_count": null,
   "metadata": {},
   "outputs": [],
   "source": [
    "values = values[1:,1:]\n",
    "print(values)"
   ]
  },
  {
   "cell_type": "markdown",
   "metadata": {},
   "source": [
    "Now let's try to get some useful statistics about these rows:"
   ]
  },
  {
   "cell_type": "code",
   "execution_count": null,
   "metadata": {},
   "outputs": [],
   "source": [
    "np.mean(values[0])"
   ]
  },
  {
   "cell_type": "markdown",
   "metadata": {},
   "source": [
    "We get a type error. This is because the when we loaded the data, we used `dtype = '|U'`, which has resulted in an array full of strings. This originally allowed us to keep the column and row labels in the table. However, we have since deleted them, so lets convert the data into a suitable type."
   ]
  },
  {
   "cell_type": "code",
   "execution_count": null,
   "metadata": {},
   "outputs": [],
   "source": [
    "values = np.array(values, dtype='float32')\n",
    "print(values)"
   ]
  },
  {
   "cell_type": "markdown",
   "metadata": {},
   "source": [
    "Now let's try again:"
   ]
  },
  {
   "cell_type": "code",
   "execution_count": null,
   "metadata": {},
   "outputs": [],
   "source": [
    "np.mean(values[0]) # Mean of the first row"
   ]
  },
  {
   "cell_type": "code",
   "execution_count": null,
   "metadata": {},
   "outputs": [],
   "source": [
    "np.std([values[0]]) # Standard deviation of the first row"
   ]
  },
  {
   "cell_type": "code",
   "execution_count": null,
   "metadata": {},
   "outputs": [],
   "source": [
    "np.mean(values[1]) # Mean of the second row"
   ]
  },
  {
   "cell_type": "code",
   "execution_count": null,
   "metadata": {},
   "outputs": [],
   "source": [
    "np.std(values[1])# Standard deviation of the second row"
   ]
  },
  {
   "cell_type": "markdown",
   "metadata": {},
   "source": [
    "Finally let's try to find how many errors per line each coder makes:"
   ]
  },
  {
   "cell_type": "code",
   "execution_count": null,
   "metadata": {},
   "outputs": [],
   "source": [
    "errors_per_line = values[1]/values[0]\n",
    "print(errors_per_line)"
   ]
  },
  {
   "cell_type": "code",
   "execution_count": null,
   "metadata": {},
   "outputs": [],
   "source": [
    "values = np.vstack((values, errors_per_line))"
   ]
  },
  {
   "cell_type": "code",
   "execution_count": null,
   "metadata": {},
   "outputs": [],
   "source": [
    "print(values)"
   ]
  },
  {
   "cell_type": "markdown",
   "metadata": {},
   "source": [
    "## Finding instances in your data\n",
    "\n",
    "In final exercise in this practical, you will need `np.where`."
   ]
  },
  {
   "cell_type": "markdown",
   "metadata": {},
   "source": [
    "This allows us to find certain values within an array. For example, if you have an array called `arr` and you wish to find all of the elements with value `1` in `arr`, you would use:\n",
    "> `np.where(arr==1)`\n",
    "\n",
    "Let's look at this in practice:"
   ]
  },
  {
   "cell_type": "code",
   "execution_count": null,
   "metadata": {},
   "outputs": [],
   "source": [
    "arr = load_data('Data/where.csv')"
   ]
  },
  {
   "cell_type": "markdown",
   "metadata": {},
   "source": [
    "Note that we have strings again, not numeric values (ints or floats). Instead of just converting the data like we did before, let's see how we can load the data properly:"
   ]
  },
  {
   "cell_type": "code",
   "execution_count": null,
   "metadata": {},
   "outputs": [],
   "source": [
    "arr = load_data('Data/where.csv', datatype = 'int')"
   ]
  },
  {
   "cell_type": "code",
   "execution_count": null,
   "metadata": {},
   "outputs": [],
   "source": [
    "print(np.where(arr == 1))"
   ]
  },
  {
   "cell_type": "markdown",
   "metadata": {},
   "source": [
    "This is a little confusing at first glance, if you put the two arrays together, you get the co-ordinates of the five places you find `1` in `arr`\n",
    "\n",
    "> $\\left[\\begin{matrix}\n",
    "\\text{Row} & \\text{Column}\\\\\n",
    "0 & 0 \\\\\n",
    "1 & 2 \\\\\n",
    "1 & 3 \\\\\n",
    "2 & 0 \\\\\n",
    "2 & 4 \n",
    "\\end{matrix}\\right]$"
   ]
  },
  {
   "cell_type": "markdown",
   "metadata": {},
   "source": [
    "To change all instances of `1` in `arr` to `0`, we can very quickly use:"
   ]
  },
  {
   "cell_type": "markdown",
   "metadata": {},
   "source": [
    "Recall, that array values can be altered as follows\n",
    "> `arr[1,2] = 0`\n",
    "\n",
    "We can be more efficient by replacing individual indices with functions which point to the indices we want to change. This is how to do it with `np.where`"
   ]
  },
  {
   "cell_type": "code",
   "execution_count": null,
   "metadata": {},
   "outputs": [],
   "source": [
    "arr[np.where(arr == 1)] = 0\n",
    "print(arr)"
   ]
  }
 ],
 "metadata": {
  "kernelspec": {
   "display_name": "Python 3",
   "language": "python",
   "name": "python3"
  },
  "language_info": {
   "codemirror_mode": {
    "name": "ipython",
    "version": 3
   },
   "file_extension": ".py",
   "mimetype": "text/x-python",
   "name": "python",
   "nbconvert_exporter": "python",
   "pygments_lexer": "ipython3",
   "version": "3.7.4"
  }
 },
 "nbformat": 4,
 "nbformat_minor": 2
}
