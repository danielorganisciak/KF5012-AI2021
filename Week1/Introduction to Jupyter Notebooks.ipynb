{
 "cells": [
  {
   "cell_type": "markdown",
   "metadata": {},
   "source": [
    "## Jupyter Notebooks\n",
    "\n",
    "In this file, we will introduce Jupyter Notebooks. Notebooks are a powerful way to process python code that also allow for easy readability. There are also some %magic functions that greatly improve convenience. We will come to these later.\n",
    "\n",
    "Notebooks consist of cells which can be executed individually. To illustrate this, we will start off by working with some basic mathematical functions. To execute a cell click the button to the left of the cell, or press `SHIFT + ENTER`. \n",
    "\n"
   ]
  },
  {
   "cell_type": "code",
   "execution_count": null,
   "metadata": {},
   "outputs": [],
   "source": [
    "a = 10\n",
    "b = 25"
   ]
  },
  {
   "cell_type": "code",
   "execution_count": null,
   "metadata": {},
   "outputs": [],
   "source": [
    "a + b"
   ]
  },
  {
   "cell_type": "code",
   "execution_count": null,
   "metadata": {},
   "outputs": [],
   "source": [
    "a / b"
   ]
  },
  {
   "cell_type": "code",
   "execution_count": null,
   "metadata": {},
   "outputs": [],
   "source": [
    "a = 1\n",
    "b = 2"
   ]
  },
  {
   "cell_type": "markdown",
   "metadata": {},
   "source": [
    "In particular, notice what happens when you redefine a and b in the fourth cell and re-run the second and third cell. Notebooks function based on the most recent cell you have executed, not the order down the page. To the left of the cells you edit, you can see `In [ ]:` which tells you that it is an input cell. The number between the square brackets tells you which they have been executed.\n",
    "\n",
    "We can also print out text as follows."
   ]
  },
  {
   "cell_type": "code",
   "execution_count": null,
   "metadata": {},
   "outputs": [],
   "source": [
    "print('Hello World')"
   ]
  },
  {
   "cell_type": "markdown",
   "metadata": {},
   "source": [
    "### Home Installation\n",
    "If you want to use Jupyter Notebooks on your own machine, download and install [Anaconda](https://www.anaconda.com/distribution/). This will automatically install both Python and Jupyter Notebook."
   ]
  }
 ],
 "metadata": {
  "kernelspec": {
   "display_name": "Python 3",
   "language": "python",
   "name": "python3"
  },
  "language_info": {
   "codemirror_mode": {
    "name": "ipython",
    "version": 3
   },
   "file_extension": ".py",
   "mimetype": "text/x-python",
   "name": "python",
   "nbconvert_exporter": "python",
   "pygments_lexer": "ipython3",
   "version": "3.7.4"
  }
 },
 "nbformat": 4,
 "nbformat_minor": 2
}
